{
 "cells": [
  {
   "cell_type": "code",
   "execution_count": null,
   "metadata": {},
   "outputs": [],
   "source": [
    "a_2 = 2435\n",
    "print(a_2)\n",
    "\n",
    "b= \"hello word\"\n",
    "print(b)\n",
    "\n",
    "c= 2\n",
    "d= 2.5\n",
    "\n"
   ]
  },
  {
   "cell_type": "code",
   "execution_count": null,
   "metadata": {},
   "outputs": [],
   "source": [
    "a= None\n",
    "b=2.5\n",
    "c=\"Varun\"\n",
    "type(a)\n",
    "d= True\n",
    "e = False\n",
    "type(e)\n"
   ]
  },
  {
   "cell_type": "code",
   "execution_count": null,
   "metadata": {},
   "outputs": [],
   "source": [
    "a= 10\n",
    "b=4\n",
    "c= a/b\n",
    "print(c)"
   ]
  },
  {
   "cell_type": "code",
   "execution_count": null,
   "metadata": {},
   "outputs": [],
   "source": [
    "x = [1, 2.3 , \"helloo\", True]\n",
    "print(x)\n",
    "type(x)\n",
    "\n",
    "\n",
    "a=(11, 11.34, \"hii\")\n",
    "print(type(a))\n",
    "\n",
    "\n",
    "\n"
   ]
  },
  {
   "cell_type": "code",
   "execution_count": null,
   "metadata": {},
   "outputs": [],
   "source": [
    "a=30\n",
    "if a>20:\n",
    "    \n",
    "    print(\"a is greater than 20\")\n",
    "    if a>30:\n",
    "        print(\"a is greater than 30\")\n",
    "    else:\n",
    "        print(\"a is less than 30\")"
   ]
  },
  {
   "cell_type": "code",
   "execution_count": null,
   "metadata": {},
   "outputs": [],
   "source": [
    "a={1,1,1,2,4,6}\n",
    "print(a)\n",
    "\n",
    "car = {\n",
    "    \"name\":\"maruti\",\n",
    "    \"model\":\"200\",\n",
    "    \"year\":\"1994\"\n",
    "}\n",
    "\n",
    "print(car)\n"
   ]
  },
  {
   "cell_type": "markdown",
   "metadata": {},
   "source": [
    "# my first coding\n",
    "\n"
   ]
  },
  {
   "cell_type": "markdown",
   "metadata": {},
   "source": [
    "### my second coding\n"
   ]
  },
  {
   "cell_type": "markdown",
   "metadata": {},
   "source": []
  },
  {
   "cell_type": "markdown",
   "metadata": {},
   "source": [
    "## ghvbij"
   ]
  },
  {
   "cell_type": "code",
   "execution_count": 2,
   "metadata": {},
   "outputs": [
    {
     "name": "stdout",
     "output_type": "stream",
     "text": [
      "True\n",
      "True\n"
     ]
    }
   ],
   "source": [
    "message = \"hello world\"\n",
    "dict1 = {\n",
    "    1:\"a\",\n",
    "    2:\"b\"\n",
    "}\n",
    "print(\"H\" not in message)\n",
    "print(1 in dict1)"
   ]
  },
  {
   "cell_type": "markdown",
   "metadata": {},
   "source": []
  },
  {
   "cell_type": "code",
   "execution_count": 6,
   "metadata": {},
   "outputs": [
    {
     "name": "stdout",
     "output_type": "stream",
     "text": [
      "byee\n"
     ]
    }
   ],
   "source": [
    "num = int(input(\"enter age\"))\n",
    "if num%5 ==  0:\n",
    "    print(\"hello\")\n",
    "else:\n",
    "    print(\"byee\")\n"
   ]
  },
  {
   "cell_type": "code",
   "execution_count": null,
   "metadata": {},
   "outputs": [],
   "source": []
  }
 ],
 "metadata": {
  "kernelspec": {
   "display_name": "Python 3",
   "language": "python",
   "name": "python3"
  },
  "language_info": {
   "codemirror_mode": {
    "name": "ipython",
    "version": 3
   },
   "file_extension": ".py",
   "mimetype": "text/x-python",
   "name": "python",
   "nbconvert_exporter": "python",
   "pygments_lexer": "ipython3",
   "version": "3.12.2"
  }
 },
 "nbformat": 4,
 "nbformat_minor": 2
}
