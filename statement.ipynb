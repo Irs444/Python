{
 "cells": [
  {
   "cell_type": "code",
   "execution_count": 5,
   "metadata": {},
   "outputs": [
    {
     "name": "stdout",
     "output_type": "stream",
     "text": [
      "x is greater than y\n"
     ]
    }
   ],
   "source": [
    "x=100\n",
    "y=20\n",
    "if x>y:\n",
    " print(\"x is greater than y\")\n",
    "else:\n",
    "    print(\"y is greater than x\")\n"
   ]
  },
  {
   "cell_type": "code",
   "execution_count": 14,
   "metadata": {},
   "outputs": [
    {
     "name": "stdout",
     "output_type": "stream",
     "text": [
      "a is greater than 30\n",
      "a is greater than 40\n"
     ]
    }
   ],
   "source": [
    "a =50\n",
    "if a<20:\n",
    "    print(\"a is grraeter than 50\")\n",
    "if a>30:\n",
    "    print(\"a is greater than 30\")\n",
    "if a>40:\n",
    "    print(\"a is greater than 40\")\n",
    "else:\n",
    "    print(\"a is greater tha 40\")"
   ]
  },
  {
   "cell_type": "code",
   "execution_count": 18,
   "metadata": {},
   "outputs": [
    {
     "name": "stdout",
     "output_type": "stream",
     "text": [
      "not divisible by 3\n"
     ]
    }
   ],
   "source": [
    "num1 = int(input(\"enter the value\"))\n",
    "\n",
    "if num1%3 == 0:\n",
    "    print(\"divisible by 3\")\n",
    "else:\n",
    "    print(\"not divisible by 3\")"
   ]
  },
  {
   "cell_type": "code",
   "execution_count": null,
   "metadata": {},
   "outputs": [],
   "source": []
  },
  {
   "cell_type": "code",
   "execution_count": null,
   "metadata": {},
   "outputs": [],
   "source": []
  }
 ],
 "metadata": {
  "kernelspec": {
   "display_name": "Python 3",
   "language": "python",
   "name": "python3"
  },
  "language_info": {
   "codemirror_mode": {
    "name": "ipython",
    "version": 3
   },
   "file_extension": ".py",
   "mimetype": "text/x-python",
   "name": "python",
   "nbconvert_exporter": "python",
   "pygments_lexer": "ipython3",
   "version": "3.12.2"
  }
 },
 "nbformat": 4,
 "nbformat_minor": 2
}
